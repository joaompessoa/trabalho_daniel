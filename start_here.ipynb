{
 "cells": [
  {
   "cell_type": "code",
   "execution_count": 1,
   "metadata": {},
   "outputs": [],
   "source": [
    "from main import contar_interativo,contar_recursivo"
   ]
  },
  {
   "cell_type": "code",
   "execution_count": 2,
   "metadata": {},
   "outputs": [],
   "source": [
    "dados = 'main_Full_data.csv'\n",
    "coluna = 'title'\n",
    "palavra = 'Season 2'"
   ]
  },
  {
   "cell_type": "code",
   "execution_count": 3,
   "metadata": {},
   "outputs": [
    {
     "name": "stdout",
     "output_type": "stream",
     "text": [
      "Pelo metodo Iterativo o resulto e: 5\n",
      "Pelo metodo Recursivo o resulto e: 5\n",
      "Pelo metodo Monolitico o resultado e: 5\n"
     ]
    }
   ],
   "source": [
    "print(f\"Pelo metodo Iterativo o resulto e: {contar_interativo(dados,coluna,palavra)}\")\n",
    "print(f\"Pelo metodo Recursivo o resulto e: {contar_recursivo(dados,coluna,palavra)}\")\n",
    "!./gotoc"
   ]
  }
 ],
 "metadata": {
  "kernelspec": {
   "display_name": "Python 3",
   "language": "python",
   "name": "python3"
  },
  "language_info": {
   "codemirror_mode": {
    "name": "ipython",
    "version": 3
   },
   "file_extension": ".py",
   "mimetype": "text/x-python",
   "name": "python",
   "nbconvert_exporter": "python",
   "pygments_lexer": "ipython3",
   "version": "3.12.2"
  }
 },
 "nbformat": 4,
 "nbformat_minor": 2
}
